{
  "nbformat": 4,
  "nbformat_minor": 0,
  "metadata": {
    "colab": {
      "provenance": [],
      "authorship_tag": "ABX9TyOBTW0tIkC98VCPyYZYIgM2",
      "include_colab_link": true
    },
    "kernelspec": {
      "name": "python3",
      "display_name": "Python 3"
    },
    "language_info": {
      "name": "python"
    }
  },
  "cells": [
    {
      "cell_type": "markdown",
      "metadata": {
        "id": "view-in-github",
        "colab_type": "text"
      },
      "source": [
        "<a href=\"https://colab.research.google.com/github/jasmeen2105/Resume_Scanner/blob/main/Resume_Scanner.ipynb\" target=\"_parent\"><img src=\"https://colab.research.google.com/assets/colab-badge.svg\" alt=\"Open In Colab\"/></a>"
      ]
    },
    {
      "cell_type": "markdown",
      "source": [
        "Install Dependencies"
      ],
      "metadata": {
        "id": "XTQt4cPikR_r"
      }
    },
    {
      "cell_type": "code",
      "execution_count": null,
      "metadata": {
        "colab": {
          "base_uri": "https://localhost:8080/"
        },
        "id": "AcDz23UPkMB7",
        "outputId": "b995c868-688a-4ce6-a1f8-4d4d1947a010"
      },
      "outputs": [
        {
          "output_type": "stream",
          "name": "stdout",
          "text": [
            "Requirement already satisfied: docx2txt in /usr/local/lib/python3.11/dist-packages (0.8)\n"
          ]
        }
      ],
      "source": [
        "!pip install docx2txt\n",
        "import docx2txt"
      ]
    },
    {
      "cell_type": "code",
      "source": [
        "job_description = docx2txt.process('/content/Sample_Description.docx')\n",
        "resume = docx2txt.process('/content/resume[1].docx')"
      ],
      "metadata": {
        "id": "ONnL9YHjq60O"
      },
      "execution_count": null,
      "outputs": []
    },
    {
      "cell_type": "code",
      "source": [
        "print(resume)"
      ],
      "metadata": {
        "colab": {
          "base_uri": "https://localhost:8080/"
        },
        "id": "AXYsC5sOsJrl",
        "outputId": "7bcc03e5-6892-4e36-d496-ba59b98098e0"
      },
      "execution_count": null,
      "outputs": [
        {
          "output_type": "stream",
          "name": "stdout",
          "text": [
            "Xander Clemmons\n",
            "\n",
            "\t\t\t\t\txclemm@email.com\t(123) 456-7890\tTampa, FL\txander-codes.dev\n",
            "\n",
            "\t\t\tLinkedIn\tGithub\n",
            "\n",
            "WORK EXPERIENCE\n",
            "\n",
            "Squarespace - Senior Web Developer\n",
            "\n",
            "\tJanuary 2020 - current\tRemote\n",
            "\n",
            "· Led and managed a team of 12 developers and designers to create efficient, effective, and visually aesthetic websites for 60,000+ clients.\n",
            "\n",
            "· Oversaw concept mock-up and wireframe design to further client satisfaction by 35%.\n",
            "\n",
            "· Developed customer-specific design framework, reducing site production time by 4 days. · Collaborated with VP of sales to create digital marketing designs that led to an average 20,000+ additional clients per month.\n",
            "\n",
            "· Led bi-weekly standup to celebrate team successes, address weaknesses, and assign tasks.\n",
            "\n",
            "Florida Polytechnic University - Web Designer\n",
            "\n",
            "\tApril 2016 - January 2020\tLakeland, FL\n",
            "\n",
            "· Created and assisted with the development of 3 official university-sponsored websites. · Created and assisted with the design, development, and support of new and existing secure websites and web applications.\n",
            "\n",
            "· Conceptualized, created, and managed dynamic web pages for data display and entry using appropriate technologies (HTML, PHP, and Web CMS).\n",
            "\n",
            "· Worked as part of a 4-person team, and communicated in a professional and collegial way. · Provided training for continuous updating of websites.\n",
            "\n",
            "Hear.com - Front-End Developer Intern\n",
            "\n",
            "\tJune 2015 - April 2016\tMiami, FL\n",
            "\n",
            "· Translated designs and wireframes into high-quality code using HTML, CSS, and JavaScript. · Worked closely with developers, designers, copywriters, and other cross-functional teams (CRO, Video, Marketing, etc..) to drive innovation and maximize conversions by 40%.\n",
            "\n",
            "· Provided input to leaders 3 times a year about the future development of new features. · Ensured the technical feasibility of UI/UX designs.\n",
            "\n",
            "EDUCATION\n",
            "\n",
            "University of Florida - B.S., Computer Science\n",
            "\n",
            "\tSeptember 2011 - June 2015\tGainesville, FL\n",
            "\n",
            "SKILLS\n",
            "\n",
            "Python; JavaScript; HTML; CSS; Java; PHP\n",
            "\n",
            "React.js; jQuery; Selenium\n",
            "\n",
            "Angular.js; Laravel\n",
            "\n",
            "MongoDB; Jest; Enymze; Mocha/Chai\n"
          ]
        }
      ]
    },
    {
      "cell_type": "code",
      "source": [
        "content = [job_description, resume]"
      ],
      "metadata": {
        "id": "N30Ypst0sTJn"
      },
      "execution_count": null,
      "outputs": []
    },
    {
      "cell_type": "code",
      "source": [
        "from sklearn.feature_extraction.text import CountVectorizer\n",
        "cv = CountVectorizer()\n",
        "matrix = cv.fit_transform(content)"
      ],
      "metadata": {
        "id": "N_xI-gi1seJN"
      },
      "execution_count": null,
      "outputs": []
    },
    {
      "cell_type": "code",
      "source": [
        "from sklearn.metrics.pairwise import cosine_similarity\n",
        "similarity_matrix = cosine_similarity(matrix)"
      ],
      "metadata": {
        "id": "E5i85mgQtEHE"
      },
      "execution_count": null,
      "outputs": []
    },
    {
      "cell_type": "code",
      "source": [
        "print(similarity_matrix)"
      ],
      "metadata": {
        "colab": {
          "base_uri": "https://localhost:8080/"
        },
        "id": "HGilCO03tcPP",
        "outputId": "0a212451-b216-43ed-a9e5-ff4b3f30dc42"
      },
      "execution_count": null,
      "outputs": [
        {
          "output_type": "stream",
          "name": "stdout",
          "text": [
            "[[1.         0.65934239]\n",
            " [0.65934239 1.        ]]\n"
          ]
        }
      ]
    },
    {
      "cell_type": "code",
      "source": [
        "print('Resume matches by: '+ str(similarity_matrix[1][0]*100)+ '%')"
      ],
      "metadata": {
        "colab": {
          "base_uri": "https://localhost:8080/"
        },
        "id": "ftFZZ7IRtl6e",
        "outputId": "2bff23e9-1201-4f5c-9a6a-b28987f1277f"
      },
      "execution_count": null,
      "outputs": [
        {
          "output_type": "stream",
          "name": "stdout",
          "text": [
            "Resume matches by: 65.93423860421326%\n"
          ]
        }
      ]
    }
  ]
}